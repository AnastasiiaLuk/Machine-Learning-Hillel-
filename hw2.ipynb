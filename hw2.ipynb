{
 "cells": [
  {
   "cell_type": "markdown",
   "id": "fcca2052",
   "metadata": {},
   "source": [
    "### Homework 2. NumPy"
   ]
  },
  {
   "cell_type": "code",
   "execution_count": 1,
   "id": "5c0820e8",
   "metadata": {},
   "outputs": [
    {
     "data": {
      "text/plain": [
       "(150, 5)"
      ]
     },
     "execution_count": 1,
     "metadata": {},
     "output_type": "execute_result"
    }
   ],
   "source": [
    "import numpy as np\n",
    "data = np.loadtxt('https://archive.ics.uci.edu/ml/machine-learning-databases/iris/iris.data', dtype='object', delimiter=',')\n",
    "data.shape"
   ]
  },
  {
   "cell_type": "markdown",
   "id": "bbe59fc5",
   "metadata": {},
   "source": [
    "__1. Знайти в датасеті таргет та видалити цю колонку з датасету (видаляти за індексом)__"
   ]
  },
  {
   "cell_type": "code",
   "execution_count": 2,
   "id": "c82f5fa5",
   "metadata": {},
   "outputs": [
    {
     "data": {
      "text/plain": [
       "array([['5.1', '3.5', '1.4', '0.2', 'Iris-setosa'],\n",
       "       ['4.9', '3.0', '1.4', '0.2', 'Iris-setosa'],\n",
       "       ['4.7', '3.2', '1.3', '0.2', 'Iris-setosa'],\n",
       "       ['4.6', '3.1', '1.5', '0.2', 'Iris-setosa'],\n",
       "       ['5.0', '3.6', '1.4', '0.2', 'Iris-setosa'],\n",
       "       ['5.4', '3.9', '1.7', '0.4', 'Iris-setosa'],\n",
       "       ['4.6', '3.4', '1.4', '0.3', 'Iris-setosa'],\n",
       "       ['5.0', '3.4', '1.5', '0.2', 'Iris-setosa'],\n",
       "       ['4.4', '2.9', '1.4', '0.2', 'Iris-setosa'],\n",
       "       ['4.9', '3.1', '1.5', '0.1', 'Iris-setosa']], dtype=object)"
      ]
     },
     "execution_count": 2,
     "metadata": {},
     "output_type": "execute_result"
    }
   ],
   "source": [
    "data[:10]"
   ]
  },
  {
   "cell_type": "code",
   "execution_count": 3,
   "id": "fb40ec2a",
   "metadata": {},
   "outputs": [],
   "source": [
    "data = np.delete(data, -1, axis=1)"
   ]
  },
  {
   "cell_type": "code",
   "execution_count": 4,
   "id": "93afb96e",
   "metadata": {},
   "outputs": [
    {
     "data": {
      "text/plain": [
       "array([['5.1', '3.5', '1.4', '0.2'],\n",
       "       ['4.9', '3.0', '1.4', '0.2'],\n",
       "       ['4.7', '3.2', '1.3', '0.2'],\n",
       "       ['4.6', '3.1', '1.5', '0.2'],\n",
       "       ['5.0', '3.6', '1.4', '0.2'],\n",
       "       ['5.4', '3.9', '1.7', '0.4'],\n",
       "       ['4.6', '3.4', '1.4', '0.3'],\n",
       "       ['5.0', '3.4', '1.5', '0.2'],\n",
       "       ['4.4', '2.9', '1.4', '0.2'],\n",
       "       ['4.9', '3.1', '1.5', '0.1']], dtype=object)"
      ]
     },
     "execution_count": 4,
     "metadata": {},
     "output_type": "execute_result"
    }
   ],
   "source": [
    "data[:10]"
   ]
  },
  {
   "cell_type": "markdown",
   "id": "8dc3aea9",
   "metadata": {},
   "source": [
    "__2. Перетворити колонки, що залишились в 2D масив (або впевнитись, що це уже 2D масив)__"
   ]
  },
  {
   "cell_type": "code",
   "execution_count": 5,
   "id": "43690565",
   "metadata": {},
   "outputs": [
    {
     "data": {
      "text/plain": [
       "2"
      ]
     },
     "execution_count": 5,
     "metadata": {},
     "output_type": "execute_result"
    }
   ],
   "source": [
    "data.ndim"
   ]
  },
  {
   "cell_type": "markdown",
   "id": "30918507",
   "metadata": {},
   "source": [
    "__3. Порахувати mean, median, standard deviation для 1-ї колонки__\n"
   ]
  },
  {
   "cell_type": "code",
   "execution_count": 6,
   "id": "ead6af10",
   "metadata": {},
   "outputs": [],
   "source": [
    "data = data.astype('float')"
   ]
  },
  {
   "cell_type": "code",
   "execution_count": 7,
   "id": "dd26402f",
   "metadata": {},
   "outputs": [
    {
     "name": "stdout",
     "output_type": "stream",
     "text": [
      "Mean value is:  5.843333333333334\n",
      "Median value is:  5.8\n",
      "Standard deviation value is:  0.8253012917851409\n"
     ]
    }
   ],
   "source": [
    "print(\"Mean value is: \", np.mean(data[:,0]))\n",
    "print(\"Median value is: \", np.median(data[:,0]))\n",
    "print(\"Standard deviation value is: \", np.std(data[:,0]))"
   ]
  },
  {
   "cell_type": "markdown",
   "id": "a66a5cb3",
   "metadata": {},
   "source": [
    "__4. Вставити 20 значень np.nan на випадкові позиції в масиві \n",
    "(при використанні звичайного рандому можуть накластись позиції, тому знайти рішення, яке гарантує 20 унікальних позицій)__"
   ]
  },
  {
   "cell_type": "code",
   "execution_count": 8,
   "id": "327e87a0",
   "metadata": {},
   "outputs": [],
   "source": [
    "rng = np.random.default_rng()\n",
    "ravel_data = data.ravel()\n",
    "idx = rng.choice(data.size, size=20, replace=False)\n",
    "ravel_data[idx] = np.nan"
   ]
  },
  {
   "cell_type": "code",
   "execution_count": 9,
   "id": "2b4d197b",
   "metadata": {},
   "outputs": [
    {
     "data": {
      "text/plain": [
       "20"
      ]
     },
     "execution_count": 9,
     "metadata": {},
     "output_type": "execute_result"
    }
   ],
   "source": [
    "np.isnan(data).sum()"
   ]
  },
  {
   "cell_type": "markdown",
   "id": "16ac64af",
   "metadata": {},
   "source": [
    "__5. Знайти позиції вставлених значень np.nan в 1-й колонці__"
   ]
  },
  {
   "cell_type": "code",
   "execution_count": 10,
   "id": "40a0be60",
   "metadata": {},
   "outputs": [
    {
     "data": {
      "text/plain": [
       "(array([ 14,  34,  35,  40,  64,  84, 101, 113, 114, 123, 124, 128, 137],\n",
       "       dtype=int64),)"
      ]
     },
     "execution_count": 10,
     "metadata": {},
     "output_type": "execute_result"
    }
   ],
   "source": [
    "np.where(np.isnan(data[:, 0]))"
   ]
  },
  {
   "cell_type": "markdown",
   "id": "b69d0778",
   "metadata": {},
   "source": [
    "__6. Відфільтрувати массив за умовою: значення в 3-й колонці > 1.5 та значения в 1-й колонці < 5.0__"
   ]
  },
  {
   "cell_type": "code",
   "execution_count": 11,
   "id": "c8ffb826",
   "metadata": {},
   "outputs": [
    {
     "name": "stdout",
     "output_type": "stream",
     "text": [
      "[[4.8 3.4 1.6 0.2]\n",
      " [4.8 3.4 1.9 0.2]\n",
      " [4.7 3.2 1.6 0.2]\n",
      " [4.8 3.1 1.6 0.2]\n",
      " [4.9 2.4 3.3 1. ]\n",
      " [4.9 2.5 4.5 1.7]]\n"
     ]
    }
   ],
   "source": [
    "mask = (data[:, 2] > 1.5) & (data[:, 0] < 5.0)\n",
    "print(data[mask])"
   ]
  },
  {
   "cell_type": "markdown",
   "id": "8df5a94a",
   "metadata": {},
   "source": [
    "__7. Замінити всі значення np.nan на 0__"
   ]
  },
  {
   "cell_type": "code",
   "execution_count": 12,
   "id": "9cc6182f",
   "metadata": {},
   "outputs": [],
   "source": [
    "data[np.isnan(data)] = 0"
   ]
  },
  {
   "cell_type": "code",
   "execution_count": 13,
   "id": "545d059a",
   "metadata": {},
   "outputs": [
    {
     "data": {
      "text/plain": [
       "0"
      ]
     },
     "execution_count": 13,
     "metadata": {},
     "output_type": "execute_result"
    }
   ],
   "source": [
    "np.isnan(data).sum()"
   ]
  },
  {
   "cell_type": "code",
   "execution_count": 14,
   "id": "2c0a45ab",
   "metadata": {},
   "outputs": [
    {
     "name": "stdout",
     "output_type": "stream",
     "text": [
      "20\n"
     ]
    }
   ],
   "source": [
    "#кількість нулів в масиві (перевірка)\n",
    "num_zeros = data.size - np.count_nonzero(data)\n",
    "print(num_zeros)"
   ]
  },
  {
   "cell_type": "markdown",
   "id": "80a27744",
   "metadata": {},
   "source": [
    "__8. Порахувати всі унікальні значення в массиві та вивести їх разом із кількістю__"
   ]
  },
  {
   "cell_type": "code",
   "execution_count": 15,
   "id": "5ffd2320",
   "metadata": {},
   "outputs": [
    {
     "name": "stdout",
     "output_type": "stream",
     "text": [
      "Unique items:  [0.  0.1 0.2 0.3 0.4 0.5 0.6 1.  1.1 1.2 1.3 1.4 1.5 1.6 1.7 1.8 1.9 2.\n",
      " 2.1 2.2 2.3 2.4 2.5 2.6 2.7 2.8 2.9 3.  3.1 3.2 3.3 3.4 3.5 3.6 3.7 3.8\n",
      " 3.9 4.  4.1 4.2 4.3 4.4 4.5 4.6 4.7 4.8 4.9 5.  5.1 5.2 5.3 5.4 5.5 5.6\n",
      " 5.7 5.8 5.9 6.  6.1 6.2 6.3 6.4 6.5 6.6 6.7 6.8 6.9 7.  7.1 7.2 7.3 7.4\n",
      " 7.6 7.7 7.9]\n",
      "Counts:  [20  6 27  7  7  1  1  8  4  6 19 19 25 11  6 12  7  7  6  6 12  6 11  5\n",
      "  8 14 10 27 11 13  8 12  8  4  4  7  5  6  4  5  3  8  9  7  7  9 10 12\n",
      " 17  6  3  7 10 11 10  7  5  8  9  4  9  6  5  3  9  3  5  1  1  3  1  1\n",
      "  1  4  1]\n"
     ]
    }
   ],
   "source": [
    "uniqs, counts = np.unique(data, return_counts=True)\n",
    "print(\"Unique items: \", uniqs)\n",
    "print(\"Counts: \", counts)"
   ]
  },
  {
   "cell_type": "markdown",
   "id": "d6f3bf53",
   "metadata": {},
   "source": [
    "__9. Розбити масив по горизонталі на 2 рівні частини (не використовувати абсолютні числа, мають бути два массиви по 4 колонки)__"
   ]
  },
  {
   "cell_type": "code",
   "execution_count": 16,
   "id": "ac393b7c",
   "metadata": {},
   "outputs": [],
   "source": [
    "data_1, data_2 = np.split(data, 2, axis=0)"
   ]
  },
  {
   "cell_type": "markdown",
   "id": "19273806",
   "metadata": {},
   "source": [
    "__10. Відсортувати обидва массиви по 1-й колонці: 1-й за збільшенням, 2-й за зменшенням__"
   ]
  },
  {
   "cell_type": "code",
   "execution_count": 17,
   "id": "4a724e3b",
   "metadata": {},
   "outputs": [],
   "source": [
    "sorted_data_1 = data_1[data_1[:, 0].argsort()]\n",
    "sorted_data_2 = data_2[data_2[:, 0].argsort()[::-1]]"
   ]
  },
  {
   "cell_type": "markdown",
   "id": "b0161ef7",
   "metadata": {},
   "source": [
    "__11. Зібрати обидва массиви в одне ціле__"
   ]
  },
  {
   "cell_type": "code",
   "execution_count": 18,
   "id": "e9c7c4f6",
   "metadata": {},
   "outputs": [],
   "source": [
    "data = np.concatenate([data_1, data_2], axis=0)"
   ]
  },
  {
   "cell_type": "markdown",
   "id": "ca232e78",
   "metadata": {},
   "source": [
    "__12. Знайти найбільш часто повторюване значення в массиві__"
   ]
  },
  {
   "cell_type": "code",
   "execution_count": 19,
   "id": "e9a91f37",
   "metadata": {},
   "outputs": [
    {
     "data": {
      "text/plain": [
       "0.2"
      ]
     },
     "execution_count": 19,
     "metadata": {},
     "output_type": "execute_result"
    }
   ],
   "source": [
    "uniqs, counts = np.unique(data, return_counts=True)\n",
    "uniqs[np.argmax(counts)]"
   ]
  },
  {
   "cell_type": "markdown",
   "id": "0ab0db6f",
   "metadata": {},
   "source": [
    "__13. Написати функцію, яка б множила всі значення в колонці, які менше середнього значения в цій колонці, на 2, і ділила інші значення на 4.__"
   ]
  },
  {
   "cell_type": "code",
   "execution_count": 20,
   "id": "a5861415",
   "metadata": {},
   "outputs": [],
   "source": [
    "def compar_mean(d): \n",
    "    return np.select([d < d.mean(), d >= d.mean()], [d * 2, d / 4])"
   ]
  },
  {
   "cell_type": "markdown",
   "id": "7b9ee055",
   "metadata": {},
   "source": [
    "__14. Застосувати отриману функцію до 3-ї колонки__"
   ]
  },
  {
   "cell_type": "code",
   "execution_count": 21,
   "id": "89ec4e73",
   "metadata": {},
   "outputs": [
    {
     "data": {
      "text/plain": [
       "array([2.8  , 2.8  , 2.6  , 3.   , 0.   , 3.4  , 2.8  , 3.   , 2.8  ,\n",
       "       3.   , 3.   , 3.2  , 2.8  , 2.2  , 2.4  , 3.   , 2.6  , 2.8  ,\n",
       "       3.4  , 3.   , 3.4  , 3.   , 2.   , 3.4  , 3.8  , 3.2  , 3.2  ,\n",
       "       3.   , 2.8  , 3.2  , 3.2  , 0.   , 3.   , 2.8  , 3.   , 2.4  ,\n",
       "       2.6  , 3.   , 2.6  , 3.   , 2.6  , 2.6  , 2.6  , 3.2  , 3.8  ,\n",
       "       2.8  , 3.2  , 2.8  , 3.   , 2.8  , 1.175, 1.125, 1.225, 1.   ,\n",
       "       1.15 , 1.125, 1.175, 6.6  , 1.15 , 0.975, 7.   , 1.05 , 1.   ,\n",
       "       1.175, 7.2  , 1.1  , 1.125, 1.025, 1.125, 0.975, 1.2  , 1.   ,\n",
       "       1.225, 1.175, 1.075, 1.1  , 1.2  , 1.25 , 1.125, 7.   , 0.95 ,\n",
       "       7.4  , 0.975, 1.275, 1.125, 1.125, 1.175, 1.1  , 1.025, 1.   ,\n",
       "       1.1  , 1.15 , 1.   , 6.6  , 1.05 , 1.05 , 1.05 , 1.075, 6.   ,\n",
       "       1.025, 1.5  , 1.275, 1.475, 1.4  , 1.45 , 1.65 , 1.125, 1.575,\n",
       "       1.45 , 1.525, 1.275, 1.325, 1.375, 1.25 , 1.275, 1.325, 1.375,\n",
       "       1.675, 1.725, 1.25 , 1.425, 1.225, 1.675, 1.225, 1.425, 1.5  ,\n",
       "       1.2  , 1.225, 1.4  , 1.45 , 1.525, 1.6  , 1.4  , 1.275, 1.4  ,\n",
       "       1.525, 1.4  , 1.375, 1.2  , 1.35 , 1.4  , 1.275, 1.275, 1.475,\n",
       "       1.425, 1.3  , 1.25 , 1.3  , 1.35 , 1.275])"
      ]
     },
     "execution_count": 21,
     "metadata": {},
     "output_type": "execute_result"
    }
   ],
   "source": [
    "compar_mean(data[:, 2])"
   ]
  }
 ],
 "metadata": {
  "kernelspec": {
   "display_name": "Python 3",
   "language": "python",
   "name": "python3"
  },
  "language_info": {
   "codemirror_mode": {
    "name": "ipython",
    "version": 3
   },
   "file_extension": ".py",
   "mimetype": "text/x-python",
   "name": "python",
   "nbconvert_exporter": "python",
   "pygments_lexer": "ipython3",
   "version": "3.8.8"
  }
 },
 "nbformat": 4,
 "nbformat_minor": 5
}
